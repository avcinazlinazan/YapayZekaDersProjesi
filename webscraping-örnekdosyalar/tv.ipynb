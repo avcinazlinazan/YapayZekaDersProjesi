{
 "cells": [
  {
   "cell_type": "code",
   "execution_count": 3,
   "id": "ec47b86c",
   "metadata": {},
   "outputs": [],
   "source": [
    "import pandas as pd\n",
    "df4 = pd.read_json('products04.json')"
   ]
  },
  {
   "cell_type": "code",
   "execution_count": 4,
   "id": "d653c22d",
   "metadata": {},
   "outputs": [],
   "source": [
    "import numpy as np"
   ]
  },
  {
   "cell_type": "code",
   "execution_count": 5,
   "id": "145ffdaa",
   "metadata": {},
   "outputs": [
    {
     "name": "stdout",
     "output_type": "stream",
     "text": [
      "<class 'pandas.core.frame.DataFrame'>\n",
      "RangeIndex: 1488 entries, 0 to 1487\n",
      "Data columns (total 4 columns):\n",
      " #   Column        Non-Null Count  Dtype \n",
      "---  ------        --------------  ----- \n",
      " 0   productName   1488 non-null   object\n",
      " 1   productLink   1488 non-null   object\n",
      " 2   productPrice  1488 non-null   object\n",
      " 3   productInfo   1488 non-null   object\n",
      "dtypes: object(4)\n",
      "memory usage: 46.6+ KB\n"
     ]
    }
   ],
   "source": [
    "df4.info()"
   ]
  },
  {
   "cell_type": "code",
   "execution_count": 6,
   "id": "c7ec49cb",
   "metadata": {},
   "outputs": [
    {
     "data": {
      "text/plain": [
       "0"
      ]
     },
     "execution_count": 6,
     "metadata": {},
     "output_type": "execute_result"
    }
   ],
   "source": [
    "df4.duplicated().sum()"
   ]
  },
  {
   "cell_type": "code",
   "execution_count": 7,
   "id": "cf170eea",
   "metadata": {},
   "outputs": [],
   "source": [
    "#df3.drop_duplicates(keep='first') "
   ]
  },
  {
   "cell_type": "code",
   "execution_count": null,
   "id": "d394a05d",
   "metadata": {},
   "outputs": [],
   "source": []
  },
  {
   "cell_type": "code",
   "execution_count": 8,
   "id": "562fd9b3",
   "metadata": {},
   "outputs": [
    {
     "data": {
      "text/plain": [
       "0"
      ]
     },
     "execution_count": 8,
     "metadata": {},
     "output_type": "execute_result"
    }
   ],
   "source": [
    "df4.duplicated().sum()"
   ]
  },
  {
   "cell_type": "code",
   "execution_count": 9,
   "id": "af4925d9",
   "metadata": {},
   "outputs": [
    {
     "name": "stdout",
     "output_type": "stream",
     "text": [
      "<class 'pandas.core.frame.DataFrame'>\n",
      "RangeIndex: 1488 entries, 0 to 1487\n",
      "Data columns (total 4 columns):\n",
      " #   Column        Non-Null Count  Dtype \n",
      "---  ------        --------------  ----- \n",
      " 0   productName   1488 non-null   object\n",
      " 1   productLink   1488 non-null   object\n",
      " 2   productPrice  1488 non-null   object\n",
      " 3   productInfo   1488 non-null   object\n",
      "dtypes: object(4)\n",
      "memory usage: 46.6+ KB\n"
     ]
    }
   ],
   "source": [
    "df4.info()"
   ]
  },
  {
   "cell_type": "code",
   "execution_count": 10,
   "id": "d8d06f96",
   "metadata": {},
   "outputs": [
    {
     "data": {
      "text/plain": [
       "0             32OV6000H 32\" Hd Ready Android Smart Led Tv\n",
       "1           32OV5000H 32\" 82 Ekran Uydu Alıcılı HD LED TV\n",
       "2       AX50FIL242 50'' 127 Ekran Uydu Alıcılı 4K Ultr...\n",
       "3       SN43DAL540 43'' 109 Ekran Uydu Alıcılı Full HD...\n",
       "4       55NANO766QA 55\" 139 Ekran Uydu Alıcılı 4K Ultr...\n",
       "                              ...                        \n",
       "1483                                           680nf 630v\n",
       "1484                                         Ncp 1200p-40\n",
       "1485                              Uydu Alıcı Göz Ir Kablo\n",
       "1486           Teleskopik Çubuk Anten (muhtelif Boylarda)\n",
       "1487                       Kr Vestel Uk Yeni (4500 Kalıp)\n",
       "Name: productInfo, Length: 1488, dtype: object"
      ]
     },
     "execution_count": 10,
     "metadata": {},
     "output_type": "execute_result"
    }
   ],
   "source": [
    "df4.productInfo"
   ]
  },
  {
   "cell_type": "code",
   "execution_count": 11,
   "id": "197f3cc6",
   "metadata": {},
   "outputs": [
    {
     "data": {
      "text/plain": [
       "productName\n",
       "Genel Markalar            325\n",
       "Samsung                   123\n",
       "VESTEL                    103\n",
       "Philips                    84\n",
       "LG                         62\n",
       "                         ... \n",
       "Quax                        1\n",
       "ERGÜL SHOP                  1\n",
       "CARWALES                    1\n",
       "EVİMALEM                    1\n",
       "hayal oyuncak atölyesi      1\n",
       "Name: count, Length: 78, dtype: int64"
      ]
     },
     "execution_count": 11,
     "metadata": {},
     "output_type": "execute_result"
    }
   ],
   "source": [
    "df4.productName.value_counts()"
   ]
  },
  {
   "cell_type": "code",
   "execution_count": 12,
   "id": "704fb59e",
   "metadata": {},
   "outputs": [
    {
     "data": {
      "text/plain": [
       "78"
      ]
     },
     "execution_count": 12,
     "metadata": {},
     "output_type": "execute_result"
    }
   ],
   "source": [
    "df4.productName.nunique()"
   ]
  },
  {
   "cell_type": "code",
   "execution_count": 13,
   "id": "cf4f72d1",
   "metadata": {},
   "outputs": [],
   "source": [
    "df5 = pd.read_json('products05.json')"
   ]
  },
  {
   "cell_type": "code",
   "execution_count": 14,
   "id": "32cd7185",
   "metadata": {},
   "outputs": [
    {
     "data": {
      "text/plain": [
       "0"
      ]
     },
     "execution_count": 14,
     "metadata": {},
     "output_type": "execute_result"
    }
   ],
   "source": [
    "df5.duplicated().sum()"
   ]
  },
  {
   "cell_type": "code",
   "execution_count": 15,
   "id": "c3736efb",
   "metadata": {},
   "outputs": [],
   "source": [
    "df=pd.concat([df4,df5], ignore_index=True)"
   ]
  },
  {
   "cell_type": "code",
   "execution_count": 16,
   "id": "bee61c14",
   "metadata": {},
   "outputs": [
    {
     "data": {
      "text/plain": [
       "1253"
      ]
     },
     "execution_count": 16,
     "metadata": {},
     "output_type": "execute_result"
    }
   ],
   "source": [
    "df.duplicated().sum()"
   ]
  },
  {
   "cell_type": "code",
   "execution_count": 17,
   "id": "a91ca06b",
   "metadata": {},
   "outputs": [],
   "source": [
    "df = df.drop_duplicates(keep='first')"
   ]
  },
  {
   "cell_type": "code",
   "execution_count": 18,
   "id": "17cece54",
   "metadata": {},
   "outputs": [
    {
     "data": {
      "text/plain": [
       "0"
      ]
     },
     "execution_count": 18,
     "metadata": {},
     "output_type": "execute_result"
    }
   ],
   "source": [
    "df.duplicated().sum()"
   ]
  },
  {
   "cell_type": "code",
   "execution_count": 19,
   "id": "9c8c454a",
   "metadata": {},
   "outputs": [
    {
     "name": "stdout",
     "output_type": "stream",
     "text": [
      "<class 'pandas.core.frame.DataFrame'>\n",
      "Index: 1507 entries, 0 to 2759\n",
      "Data columns (total 4 columns):\n",
      " #   Column        Non-Null Count  Dtype \n",
      "---  ------        --------------  ----- \n",
      " 0   productName   1507 non-null   object\n",
      " 1   productLink   1507 non-null   object\n",
      " 2   productPrice  1507 non-null   object\n",
      " 3   productInfo   1507 non-null   object\n",
      "dtypes: object(4)\n",
      "memory usage: 58.9+ KB\n"
     ]
    }
   ],
   "source": [
    "df.info()"
   ]
  },
  {
   "cell_type": "code",
   "execution_count": 20,
   "id": "549defc2",
   "metadata": {},
   "outputs": [],
   "source": [
    "df = df.rename(columns={'productName': 'productType'})"
   ]
  },
  {
   "cell_type": "code",
   "execution_count": 21,
   "id": "b454c584",
   "metadata": {},
   "outputs": [
    {
     "data": {
      "text/html": [
       "<div>\n",
       "<style scoped>\n",
       "    .dataframe tbody tr th:only-of-type {\n",
       "        vertical-align: middle;\n",
       "    }\n",
       "\n",
       "    .dataframe tbody tr th {\n",
       "        vertical-align: top;\n",
       "    }\n",
       "\n",
       "    .dataframe thead th {\n",
       "        text-align: right;\n",
       "    }\n",
       "</style>\n",
       "<table border=\"1\" class=\"dataframe\">\n",
       "  <thead>\n",
       "    <tr style=\"text-align: right;\">\n",
       "      <th></th>\n",
       "      <th>productType</th>\n",
       "      <th>productLink</th>\n",
       "      <th>productPrice</th>\n",
       "      <th>productInfo</th>\n",
       "    </tr>\n",
       "  </thead>\n",
       "  <tbody>\n",
       "    <tr>\n",
       "      <th>0</th>\n",
       "      <td>ONVO</td>\n",
       "      <td>https://www.trendyol.com//onvo/32ov6000h-32-hd...</td>\n",
       "      <td>4.335 TL</td>\n",
       "      <td>32OV6000H 32\" Hd Ready Android Smart Led Tv</td>\n",
       "    </tr>\n",
       "    <tr>\n",
       "      <th>1</th>\n",
       "      <td>ONVO</td>\n",
       "      <td>https://www.trendyol.com//onvo/32ov5000h-32-82...</td>\n",
       "      <td>3.595 TL</td>\n",
       "      <td>32OV5000H 32\" 82 Ekran Uydu Alıcılı HD LED TV</td>\n",
       "    </tr>\n",
       "    <tr>\n",
       "      <th>2</th>\n",
       "      <td>Axen</td>\n",
       "      <td>https://www.trendyol.com//axen/ax50fil242-50-1...</td>\n",
       "      <td>8.699 TL</td>\n",
       "      <td>AX50FIL242 50'' 127 Ekran Uydu Alıcılı 4K Ultr...</td>\n",
       "    </tr>\n",
       "    <tr>\n",
       "      <th>3</th>\n",
       "      <td>Sunny</td>\n",
       "      <td>https://www.trendyol.com//sunny/sn43dal540-43-...</td>\n",
       "      <td>7.534 TL</td>\n",
       "      <td>SN43DAL540 43'' 109 Ekran Uydu Alıcılı Full HD...</td>\n",
       "    </tr>\n",
       "    <tr>\n",
       "      <th>4</th>\n",
       "      <td>LG</td>\n",
       "      <td>https://www.trendyol.com//lg/55nano766qa-55-13...</td>\n",
       "      <td>20.153,27 TL</td>\n",
       "      <td>55NANO766QA 55\" 139 Ekran Uydu Alıcılı 4K Ultr...</td>\n",
       "    </tr>\n",
       "  </tbody>\n",
       "</table>\n",
       "</div>"
      ],
      "text/plain": [
       "  productType                                        productLink  \\\n",
       "0        ONVO  https://www.trendyol.com//onvo/32ov6000h-32-hd...   \n",
       "1        ONVO  https://www.trendyol.com//onvo/32ov5000h-32-82...   \n",
       "2        Axen  https://www.trendyol.com//axen/ax50fil242-50-1...   \n",
       "3       Sunny  https://www.trendyol.com//sunny/sn43dal540-43-...   \n",
       "4          LG  https://www.trendyol.com//lg/55nano766qa-55-13...   \n",
       "\n",
       "   productPrice                                        productInfo  \n",
       "0      4.335 TL        32OV6000H 32\" Hd Ready Android Smart Led Tv  \n",
       "1      3.595 TL      32OV5000H 32\" 82 Ekran Uydu Alıcılı HD LED TV  \n",
       "2      8.699 TL  AX50FIL242 50'' 127 Ekran Uydu Alıcılı 4K Ultr...  \n",
       "3      7.534 TL  SN43DAL540 43'' 109 Ekran Uydu Alıcılı Full HD...  \n",
       "4  20.153,27 TL  55NANO766QA 55\" 139 Ekran Uydu Alıcılı 4K Ultr...  "
      ]
     },
     "execution_count": 21,
     "metadata": {},
     "output_type": "execute_result"
    }
   ],
   "source": [
    "df.head()"
   ]
  },
  {
   "cell_type": "code",
   "execution_count": 22,
   "id": "2a112567",
   "metadata": {},
   "outputs": [
    {
     "data": {
      "text/html": [
       "<div>\n",
       "<style scoped>\n",
       "    .dataframe tbody tr th:only-of-type {\n",
       "        vertical-align: middle;\n",
       "    }\n",
       "\n",
       "    .dataframe tbody tr th {\n",
       "        vertical-align: top;\n",
       "    }\n",
       "\n",
       "    .dataframe thead th {\n",
       "        text-align: right;\n",
       "    }\n",
       "</style>\n",
       "<table border=\"1\" class=\"dataframe\">\n",
       "  <thead>\n",
       "    <tr style=\"text-align: right;\">\n",
       "      <th></th>\n",
       "      <th>productType</th>\n",
       "      <th>productLink</th>\n",
       "      <th>productPrice</th>\n",
       "      <th>productInfo</th>\n",
       "      <th>productname</th>\n",
       "    </tr>\n",
       "  </thead>\n",
       "  <tbody>\n",
       "    <tr>\n",
       "      <th>0</th>\n",
       "      <td>ONVO</td>\n",
       "      <td>https://www.trendyol.com//onvo/32ov6000h-32-hd...</td>\n",
       "      <td>4.335 TL</td>\n",
       "      <td>32OV6000H 32\" Hd Ready Android Smart Led Tv</td>\n",
       "      <td>0</td>\n",
       "    </tr>\n",
       "    <tr>\n",
       "      <th>1</th>\n",
       "      <td>ONVO</td>\n",
       "      <td>https://www.trendyol.com//onvo/32ov5000h-32-82...</td>\n",
       "      <td>3.595 TL</td>\n",
       "      <td>32OV5000H 32\" 82 Ekran Uydu Alıcılı HD LED TV</td>\n",
       "      <td>1</td>\n",
       "    </tr>\n",
       "    <tr>\n",
       "      <th>2</th>\n",
       "      <td>Axen</td>\n",
       "      <td>https://www.trendyol.com//axen/ax50fil242-50-1...</td>\n",
       "      <td>8.699 TL</td>\n",
       "      <td>AX50FIL242 50'' 127 Ekran Uydu Alıcılı 4K Ultr...</td>\n",
       "      <td>2</td>\n",
       "    </tr>\n",
       "    <tr>\n",
       "      <th>3</th>\n",
       "      <td>Sunny</td>\n",
       "      <td>https://www.trendyol.com//sunny/sn43dal540-43-...</td>\n",
       "      <td>7.534 TL</td>\n",
       "      <td>SN43DAL540 43'' 109 Ekran Uydu Alıcılı Full HD...</td>\n",
       "      <td>3</td>\n",
       "    </tr>\n",
       "    <tr>\n",
       "      <th>4</th>\n",
       "      <td>LG</td>\n",
       "      <td>https://www.trendyol.com//lg/55nano766qa-55-13...</td>\n",
       "      <td>20.153,27 TL</td>\n",
       "      <td>55NANO766QA 55\" 139 Ekran Uydu Alıcılı 4K Ultr...</td>\n",
       "      <td>4</td>\n",
       "    </tr>\n",
       "    <tr>\n",
       "      <th>...</th>\n",
       "      <td>...</td>\n",
       "      <td>...</td>\n",
       "      <td>...</td>\n",
       "      <td>...</td>\n",
       "      <td>...</td>\n",
       "    </tr>\n",
       "    <tr>\n",
       "      <th>2755</th>\n",
       "      <td>Genel Markalar</td>\n",
       "      <td>https://www.trendyol.com//genel-markalar/60-oh...</td>\n",
       "      <td>79 TL</td>\n",
       "      <td>60 OHM ERKEK / F ERKEK KABLO 1.2 METRE KABLO B...</td>\n",
       "      <td>1502</td>\n",
       "    </tr>\n",
       "    <tr>\n",
       "      <th>2756</th>\n",
       "      <td>Genel Markalar</td>\n",
       "      <td>https://www.trendyol.com//genel-markalar/74-hc...</td>\n",
       "      <td>60,06 TL</td>\n",
       "      <td>74 Hc 14</td>\n",
       "      <td>1503</td>\n",
       "    </tr>\n",
       "    <tr>\n",
       "      <th>2757</th>\n",
       "      <td>Genel Markalar</td>\n",
       "      <td>https://www.trendyol.com//genel-markalar/27-45...</td>\n",
       "      <td>69,49 TL</td>\n",
       "      <td>27/450 V Kondansatör Kalın Kısa Bacak</td>\n",
       "      <td>1504</td>\n",
       "    </tr>\n",
       "    <tr>\n",
       "      <th>2758</th>\n",
       "      <td>Genel Markalar</td>\n",
       "      <td>https://www.trendyol.com//genel-markalar/ka-22...</td>\n",
       "      <td>87,48 TL</td>\n",
       "      <td>Ka 2281</td>\n",
       "      <td>1505</td>\n",
       "    </tr>\n",
       "    <tr>\n",
       "      <th>2759</th>\n",
       "      <td>Genel Markalar</td>\n",
       "      <td>https://www.trendyol.com//genel-markalar/2sc-4...</td>\n",
       "      <td>60,57 TL</td>\n",
       "      <td>2sc 4305</td>\n",
       "      <td>1506</td>\n",
       "    </tr>\n",
       "  </tbody>\n",
       "</table>\n",
       "<p>1507 rows × 5 columns</p>\n",
       "</div>"
      ],
      "text/plain": [
       "         productType                                        productLink  \\\n",
       "0               ONVO  https://www.trendyol.com//onvo/32ov6000h-32-hd...   \n",
       "1               ONVO  https://www.trendyol.com//onvo/32ov5000h-32-82...   \n",
       "2               Axen  https://www.trendyol.com//axen/ax50fil242-50-1...   \n",
       "3              Sunny  https://www.trendyol.com//sunny/sn43dal540-43-...   \n",
       "4                 LG  https://www.trendyol.com//lg/55nano766qa-55-13...   \n",
       "...              ...                                                ...   \n",
       "2755  Genel Markalar  https://www.trendyol.com//genel-markalar/60-oh...   \n",
       "2756  Genel Markalar  https://www.trendyol.com//genel-markalar/74-hc...   \n",
       "2757  Genel Markalar  https://www.trendyol.com//genel-markalar/27-45...   \n",
       "2758  Genel Markalar  https://www.trendyol.com//genel-markalar/ka-22...   \n",
       "2759  Genel Markalar  https://www.trendyol.com//genel-markalar/2sc-4...   \n",
       "\n",
       "      productPrice                                        productInfo  \\\n",
       "0         4.335 TL        32OV6000H 32\" Hd Ready Android Smart Led Tv   \n",
       "1         3.595 TL      32OV5000H 32\" 82 Ekran Uydu Alıcılı HD LED TV   \n",
       "2         8.699 TL  AX50FIL242 50'' 127 Ekran Uydu Alıcılı 4K Ultr...   \n",
       "3         7.534 TL  SN43DAL540 43'' 109 Ekran Uydu Alıcılı Full HD...   \n",
       "4     20.153,27 TL  55NANO766QA 55\" 139 Ekran Uydu Alıcılı 4K Ultr...   \n",
       "...            ...                                                ...   \n",
       "2755         79 TL  60 OHM ERKEK / F ERKEK KABLO 1.2 METRE KABLO B...   \n",
       "2756      60,06 TL                                           74 Hc 14   \n",
       "2757      69,49 TL              27/450 V Kondansatör Kalın Kısa Bacak   \n",
       "2758      87,48 TL                                            Ka 2281   \n",
       "2759      60,57 TL                                           2sc 4305   \n",
       "\n",
       "      productname  \n",
       "0               0  \n",
       "1               1  \n",
       "2               2  \n",
       "3               3  \n",
       "4               4  \n",
       "...           ...  \n",
       "2755         1502  \n",
       "2756         1503  \n",
       "2757         1504  \n",
       "2758         1505  \n",
       "2759         1506  \n",
       "\n",
       "[1507 rows x 5 columns]"
      ]
     },
     "execution_count": 22,
     "metadata": {},
     "output_type": "execute_result"
    }
   ],
   "source": [
    "df[\"productname\"]=np.arange(len(df))\n",
    "df"
   ]
  },
  {
   "cell_type": "code",
   "execution_count": 23,
   "id": "27a96d44",
   "metadata": {},
   "outputs": [],
   "source": [
    "df[\"productname\"]=df[\"productType\"]"
   ]
  },
  {
   "cell_type": "code",
   "execution_count": 24,
   "id": "7c7e1b94",
   "metadata": {},
   "outputs": [
    {
     "data": {
      "text/plain": [
       "0                 ONVO\n",
       "1                 ONVO\n",
       "2                 Axen\n",
       "3                Sunny\n",
       "4                   LG\n",
       "             ...      \n",
       "2755    Genel Markalar\n",
       "2756    Genel Markalar\n",
       "2757    Genel Markalar\n",
       "2758    Genel Markalar\n",
       "2759    Genel Markalar\n",
       "Name: productname, Length: 1507, dtype: object"
      ]
     },
     "execution_count": 24,
     "metadata": {},
     "output_type": "execute_result"
    }
   ],
   "source": [
    "df[\"productname\"]"
   ]
  },
  {
   "cell_type": "code",
   "execution_count": 25,
   "id": "0a401fb4",
   "metadata": {},
   "outputs": [],
   "source": [
    "df[\"productName\"]=df[\"productname\"]"
   ]
  },
  {
   "cell_type": "code",
   "execution_count": 26,
   "id": "f4b66eff",
   "metadata": {},
   "outputs": [],
   "source": [
    "df[\"productName\"]=\"Televizyon\""
   ]
  },
  {
   "cell_type": "code",
   "execution_count": 27,
   "id": "4d8d6d0d",
   "metadata": {},
   "outputs": [],
   "source": [
    "df.drop(\"productname\",axis=1,inplace=True)"
   ]
  },
  {
   "cell_type": "code",
   "execution_count": 28,
   "id": "5eee2630",
   "metadata": {},
   "outputs": [
    {
     "data": {
      "text/html": [
       "<div>\n",
       "<style scoped>\n",
       "    .dataframe tbody tr th:only-of-type {\n",
       "        vertical-align: middle;\n",
       "    }\n",
       "\n",
       "    .dataframe tbody tr th {\n",
       "        vertical-align: top;\n",
       "    }\n",
       "\n",
       "    .dataframe thead th {\n",
       "        text-align: right;\n",
       "    }\n",
       "</style>\n",
       "<table border=\"1\" class=\"dataframe\">\n",
       "  <thead>\n",
       "    <tr style=\"text-align: right;\">\n",
       "      <th></th>\n",
       "      <th>productType</th>\n",
       "      <th>productLink</th>\n",
       "      <th>productPrice</th>\n",
       "      <th>productInfo</th>\n",
       "      <th>productName</th>\n",
       "    </tr>\n",
       "  </thead>\n",
       "  <tbody>\n",
       "    <tr>\n",
       "      <th>0</th>\n",
       "      <td>ONVO</td>\n",
       "      <td>https://www.trendyol.com//onvo/32ov6000h-32-hd...</td>\n",
       "      <td>4.335 TL</td>\n",
       "      <td>32OV6000H 32\" Hd Ready Android Smart Led Tv</td>\n",
       "      <td>Televizyon</td>\n",
       "    </tr>\n",
       "    <tr>\n",
       "      <th>1</th>\n",
       "      <td>ONVO</td>\n",
       "      <td>https://www.trendyol.com//onvo/32ov5000h-32-82...</td>\n",
       "      <td>3.595 TL</td>\n",
       "      <td>32OV5000H 32\" 82 Ekran Uydu Alıcılı HD LED TV</td>\n",
       "      <td>Televizyon</td>\n",
       "    </tr>\n",
       "    <tr>\n",
       "      <th>2</th>\n",
       "      <td>Axen</td>\n",
       "      <td>https://www.trendyol.com//axen/ax50fil242-50-1...</td>\n",
       "      <td>8.699 TL</td>\n",
       "      <td>AX50FIL242 50'' 127 Ekran Uydu Alıcılı 4K Ultr...</td>\n",
       "      <td>Televizyon</td>\n",
       "    </tr>\n",
       "    <tr>\n",
       "      <th>3</th>\n",
       "      <td>Sunny</td>\n",
       "      <td>https://www.trendyol.com//sunny/sn43dal540-43-...</td>\n",
       "      <td>7.534 TL</td>\n",
       "      <td>SN43DAL540 43'' 109 Ekran Uydu Alıcılı Full HD...</td>\n",
       "      <td>Televizyon</td>\n",
       "    </tr>\n",
       "    <tr>\n",
       "      <th>4</th>\n",
       "      <td>LG</td>\n",
       "      <td>https://www.trendyol.com//lg/55nano766qa-55-13...</td>\n",
       "      <td>20.153,27 TL</td>\n",
       "      <td>55NANO766QA 55\" 139 Ekran Uydu Alıcılı 4K Ultr...</td>\n",
       "      <td>Televizyon</td>\n",
       "    </tr>\n",
       "  </tbody>\n",
       "</table>\n",
       "</div>"
      ],
      "text/plain": [
       "  productType                                        productLink  \\\n",
       "0        ONVO  https://www.trendyol.com//onvo/32ov6000h-32-hd...   \n",
       "1        ONVO  https://www.trendyol.com//onvo/32ov5000h-32-82...   \n",
       "2        Axen  https://www.trendyol.com//axen/ax50fil242-50-1...   \n",
       "3       Sunny  https://www.trendyol.com//sunny/sn43dal540-43-...   \n",
       "4          LG  https://www.trendyol.com//lg/55nano766qa-55-13...   \n",
       "\n",
       "   productPrice                                        productInfo productName  \n",
       "0      4.335 TL        32OV6000H 32\" Hd Ready Android Smart Led Tv  Televizyon  \n",
       "1      3.595 TL      32OV5000H 32\" 82 Ekran Uydu Alıcılı HD LED TV  Televizyon  \n",
       "2      8.699 TL  AX50FIL242 50'' 127 Ekran Uydu Alıcılı 4K Ultr...  Televizyon  \n",
       "3      7.534 TL  SN43DAL540 43'' 109 Ekran Uydu Alıcılı Full HD...  Televizyon  \n",
       "4  20.153,27 TL  55NANO766QA 55\" 139 Ekran Uydu Alıcılı 4K Ultr...  Televizyon  "
      ]
     },
     "execution_count": 28,
     "metadata": {},
     "output_type": "execute_result"
    }
   ],
   "source": [
    "df.head()"
   ]
  },
  {
   "cell_type": "code",
   "execution_count": 29,
   "id": "6a3a03a3",
   "metadata": {},
   "outputs": [],
   "source": [
    "df.to_csv(\"Recommended/Tv.csv\")"
   ]
  },
  {
   "cell_type": "code",
   "execution_count": 31,
   "id": "61936f14",
   "metadata": {},
   "outputs": [],
   "source": [
    "df=pd.read_csv(\"Recommended/vrGozluk.csv\")"
   ]
  },
  {
   "cell_type": "code",
   "execution_count": 32,
   "id": "9aea3c85",
   "metadata": {},
   "outputs": [
    {
     "data": {
      "text/html": [
       "<div>\n",
       "<style scoped>\n",
       "    .dataframe tbody tr th:only-of-type {\n",
       "        vertical-align: middle;\n",
       "    }\n",
       "\n",
       "    .dataframe tbody tr th {\n",
       "        vertical-align: top;\n",
       "    }\n",
       "\n",
       "    .dataframe thead th {\n",
       "        text-align: right;\n",
       "    }\n",
       "</style>\n",
       "<table border=\"1\" class=\"dataframe\">\n",
       "  <thead>\n",
       "    <tr style=\"text-align: right;\">\n",
       "      <th></th>\n",
       "      <th>Unnamed: 0</th>\n",
       "      <th>productType</th>\n",
       "      <th>productLink</th>\n",
       "      <th>productPrice</th>\n",
       "      <th>productInfo</th>\n",
       "      <th>productName</th>\n",
       "    </tr>\n",
       "  </thead>\n",
       "  <tbody>\n",
       "    <tr>\n",
       "      <th>0</th>\n",
       "      <td>0</td>\n",
       "      <td>Apera</td>\n",
       "      <td>https://www.trendyol.com//apera/gn-48-vr-box-3...</td>\n",
       "      <td>379 TL</td>\n",
       "      <td>GN-48 Vr-Box 3D Sanal Gerçeklik Gözlüğü Akıllı...</td>\n",
       "      <td>Vr Gözlük</td>\n",
       "    </tr>\n",
       "    <tr>\n",
       "      <th>1</th>\n",
       "      <td>1</td>\n",
       "      <td>VR Shinecon</td>\n",
       "      <td>https://www.trendyol.com//vr-shinecon/sanal-ge...</td>\n",
       "      <td>860,69 TL</td>\n",
       "      <td>Sanal Gerçeklik Gözlüğü Kulaklıklı 3d Vr Filml...</td>\n",
       "      <td>Vr Gözlük</td>\n",
       "    </tr>\n",
       "    <tr>\n",
       "      <th>2</th>\n",
       "      <td>2</td>\n",
       "      <td>META</td>\n",
       "      <td>https://www.trendyol.com//meta/quest-3-128-gb-...</td>\n",
       "      <td>23.999 TL</td>\n",
       "      <td>Quest 3 128 Gb - Vr Sanal Gerçeklik Gözlüğü</td>\n",
       "      <td>Vr Gözlük</td>\n",
       "    </tr>\n",
       "    <tr>\n",
       "      <th>3</th>\n",
       "      <td>3</td>\n",
       "      <td>META</td>\n",
       "      <td>https://www.trendyol.com//meta/quest-3-128gb-p...</td>\n",
       "      <td>24.899 TL</td>\n",
       "      <td>QUEST 3 128GB</td>\n",
       "      <td>Vr Gözlük</td>\n",
       "    </tr>\n",
       "    <tr>\n",
       "      <th>4</th>\n",
       "      <td>4</td>\n",
       "      <td>VR Shinecon</td>\n",
       "      <td>https://www.trendyol.com//vr-shinecon/g04ea-sa...</td>\n",
       "      <td>1.149,99 TL</td>\n",
       "      <td>G04ea Sanal Gerçeklik Gözlüğü Sc-bo3 Kablosuz ...</td>\n",
       "      <td>Vr Gözlük</td>\n",
       "    </tr>\n",
       "    <tr>\n",
       "      <th>...</th>\n",
       "      <td>...</td>\n",
       "      <td>...</td>\n",
       "      <td>...</td>\n",
       "      <td>...</td>\n",
       "      <td>...</td>\n",
       "      <td>...</td>\n",
       "    </tr>\n",
       "    <tr>\n",
       "      <th>283</th>\n",
       "      <td>283</td>\n",
       "      <td>ZMOBILE</td>\n",
       "      <td>https://www.trendyol.com//zmobile/sanal-gercek...</td>\n",
       "      <td>1.493,90 TL</td>\n",
       "      <td>Sanal Gerçeklik Gözlüğü Kulaklıklı Kablosuz Bl...</td>\n",
       "      <td>Vr Gözlük</td>\n",
       "    </tr>\n",
       "    <tr>\n",
       "      <th>284</th>\n",
       "      <td>284</td>\n",
       "      <td>Müstesna</td>\n",
       "      <td>https://www.trendyol.com//mustesna/antiradyasy...</td>\n",
       "      <td>2.066,08 TL</td>\n",
       "      <td>Antiradyasyon Anti Blue Light Teknoloji Gözlüğ...</td>\n",
       "      <td>Vr Gözlük</td>\n",
       "    </tr>\n",
       "    <tr>\n",
       "      <th>285</th>\n",
       "      <td>285</td>\n",
       "      <td>Dolia</td>\n",
       "      <td>https://www.trendyol.com//dolia/tum-telefonlar...</td>\n",
       "      <td>1.924 TL</td>\n",
       "      <td>Tüm Telefonlar Uyumlu 3d Vr Sanal Gerçeklik Gö...</td>\n",
       "      <td>Vr Gözlük</td>\n",
       "    </tr>\n",
       "    <tr>\n",
       "      <th>286</th>\n",
       "      <td>286</td>\n",
       "      <td>Dolia</td>\n",
       "      <td>https://www.trendyol.com//dolia/tum-telefonlar...</td>\n",
       "      <td>1.400 TL</td>\n",
       "      <td>Tüm Telefonlar Uyumlu 3d Vr Sanal Gerçeklik Gö...</td>\n",
       "      <td>Vr Gözlük</td>\n",
       "    </tr>\n",
       "    <tr>\n",
       "      <th>287</th>\n",
       "      <td>287</td>\n",
       "      <td>NewFace</td>\n",
       "      <td>https://www.trendyol.com//newface/shinecon-sc-...</td>\n",
       "      <td>2.795 TL</td>\n",
       "      <td>Shinecon SC-G04E 3D Sanal Gerçeklik Gözlüğü - ...</td>\n",
       "      <td>Vr Gözlük</td>\n",
       "    </tr>\n",
       "  </tbody>\n",
       "</table>\n",
       "<p>288 rows × 6 columns</p>\n",
       "</div>"
      ],
      "text/plain": [
       "     Unnamed: 0  productType  \\\n",
       "0             0        Apera   \n",
       "1             1  VR Shinecon   \n",
       "2             2         META   \n",
       "3             3         META   \n",
       "4             4  VR Shinecon   \n",
       "..          ...          ...   \n",
       "283         283      ZMOBILE   \n",
       "284         284     Müstesna   \n",
       "285         285        Dolia   \n",
       "286         286        Dolia   \n",
       "287         287      NewFace   \n",
       "\n",
       "                                           productLink productPrice  \\\n",
       "0    https://www.trendyol.com//apera/gn-48-vr-box-3...       379 TL   \n",
       "1    https://www.trendyol.com//vr-shinecon/sanal-ge...    860,69 TL   \n",
       "2    https://www.trendyol.com//meta/quest-3-128-gb-...    23.999 TL   \n",
       "3    https://www.trendyol.com//meta/quest-3-128gb-p...    24.899 TL   \n",
       "4    https://www.trendyol.com//vr-shinecon/g04ea-sa...  1.149,99 TL   \n",
       "..                                                 ...          ...   \n",
       "283  https://www.trendyol.com//zmobile/sanal-gercek...  1.493,90 TL   \n",
       "284  https://www.trendyol.com//mustesna/antiradyasy...  2.066,08 TL   \n",
       "285  https://www.trendyol.com//dolia/tum-telefonlar...     1.924 TL   \n",
       "286  https://www.trendyol.com//dolia/tum-telefonlar...     1.400 TL   \n",
       "287  https://www.trendyol.com//newface/shinecon-sc-...     2.795 TL   \n",
       "\n",
       "                                           productInfo productName  \n",
       "0    GN-48 Vr-Box 3D Sanal Gerçeklik Gözlüğü Akıllı...   Vr Gözlük  \n",
       "1    Sanal Gerçeklik Gözlüğü Kulaklıklı 3d Vr Filml...   Vr Gözlük  \n",
       "2          Quest 3 128 Gb - Vr Sanal Gerçeklik Gözlüğü   Vr Gözlük  \n",
       "3                                        QUEST 3 128GB   Vr Gözlük  \n",
       "4    G04ea Sanal Gerçeklik Gözlüğü Sc-bo3 Kablosuz ...   Vr Gözlük  \n",
       "..                                                 ...         ...  \n",
       "283  Sanal Gerçeklik Gözlüğü Kulaklıklı Kablosuz Bl...   Vr Gözlük  \n",
       "284  Antiradyasyon Anti Blue Light Teknoloji Gözlüğ...   Vr Gözlük  \n",
       "285  Tüm Telefonlar Uyumlu 3d Vr Sanal Gerçeklik Gö...   Vr Gözlük  \n",
       "286  Tüm Telefonlar Uyumlu 3d Vr Sanal Gerçeklik Gö...   Vr Gözlük  \n",
       "287  Shinecon SC-G04E 3D Sanal Gerçeklik Gözlüğü - ...   Vr Gözlük  \n",
       "\n",
       "[288 rows x 6 columns]"
      ]
     },
     "execution_count": 32,
     "metadata": {},
     "output_type": "execute_result"
    }
   ],
   "source": [
    "df"
   ]
  },
  {
   "cell_type": "code",
   "execution_count": null,
   "id": "395f597f",
   "metadata": {},
   "outputs": [],
   "source": []
  }
 ],
 "metadata": {
  "kernelspec": {
   "display_name": "Python 3 (ipykernel)",
   "language": "python",
   "name": "python3"
  },
  "language_info": {
   "codemirror_mode": {
    "name": "ipython",
    "version": 3
   },
   "file_extension": ".py",
   "mimetype": "text/x-python",
   "name": "python",
   "nbconvert_exporter": "python",
   "pygments_lexer": "ipython3",
   "version": "3.11.5"
  }
 },
 "nbformat": 4,
 "nbformat_minor": 5
}
